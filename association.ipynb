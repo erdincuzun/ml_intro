{
 "cells": [
  {
   "cell_type": "code",
   "execution_count": 1,
   "metadata": {},
   "outputs": [],
   "source": [
    "import pandas as pd\n",
    "from mlxtend.frequent_patterns import apriori, association_rules"
   ]
  },
  {
   "cell_type": "code",
   "execution_count": 2,
   "metadata": {},
   "outputs": [],
   "source": [
    "df_data = pd.read_excel(\"association.xlsx\", index_col = 'InvoiceDate')"
   ]
  },
  {
   "cell_type": "code",
   "execution_count": 3,
   "metadata": {},
   "outputs": [],
   "source": [
    "baskets = df_data.loc[(df_data['Quantity']>0) ,['InvoiceNo','Description','Quantity']]"
   ]
  },
  {
   "cell_type": "code",
   "execution_count": 4,
   "metadata": {},
   "outputs": [],
   "source": [
    "baskets = baskets.groupby(['InvoiceNo','Description'])['Quantity'].sum().unstack(fill_value=0)"
   ]
  },
  {
   "cell_type": "code",
   "execution_count": 5,
   "metadata": {},
   "outputs": [],
   "source": [
    "baskets = (baskets > 0)"
   ]
  },
  {
   "cell_type": "code",
   "execution_count": 6,
   "metadata": {},
   "outputs": [
    {
     "name": "stdout",
     "output_type": "stream",
     "text": [
      "      support                                           itemsets\n",
      "0    0.047427                           (6 RIBBONS RUSTIC CHARM)\n",
      "1    0.041120                      (60 TEATIME FAIRY CAKE CASES)\n",
      "2    0.048669                       (ALARM CLOCK BAKELIKE GREEN)\n",
      "3    0.038886                        (ALARM CLOCK BAKELIKE PINK)\n",
      "4    0.052195                        (ALARM CLOCK BAKELIKE RED )\n",
      "..        ...                                                ...\n",
      "109  0.041468                           (WOODLAND CHARLOTTE BAG)\n",
      "110  0.038141  (ROSES REGENCY TEACUP AND SAUCER , GREEN REGEN...\n",
      "111  0.040971  (JUMBO BAG RED RETROSPOT, JUMBO BAG PINK POLKA...\n",
      "112  0.033770  (JUMBO SHOPPER VINTAGE RED PAISLEY, JUMBO BAG ...\n",
      "113  0.035956  (JUMBO STORAGE BAG SUKI, JUMBO BAG RED RETROSPOT)\n",
      "\n",
      "[114 rows x 2 columns]\n"
     ]
    }
   ],
   "source": [
    "frequent_itemsets = apriori(baskets, min_support=0.0325, use_colnames=True)\n",
    "print(frequent_itemsets)"
   ]
  },
  {
   "cell_type": "code",
   "execution_count": 7,
   "metadata": {},
   "outputs": [],
   "source": [
    "rules = association_rules(frequent_itemsets, metric = 'confidence', min_threshold=0.5)"
   ]
  },
  {
   "cell_type": "code",
   "execution_count": 8,
   "metadata": {},
   "outputs": [
    {
     "name": "stdout",
     "output_type": "stream",
     "text": [
      "                           antecedents                         consequents  \\\n",
      "0   (ROSES REGENCY TEACUP AND SAUCER )   (GREEN REGENCY TEACUP AND SAUCER)   \n",
      "1    (GREEN REGENCY TEACUP AND SAUCER)  (ROSES REGENCY TEACUP AND SAUCER )   \n",
      "2            (JUMBO BAG PINK POLKADOT)           (JUMBO BAG RED RETROSPOT)   \n",
      "3  (JUMBO SHOPPER VINTAGE RED PAISLEY)           (JUMBO BAG RED RETROSPOT)   \n",
      "4             (JUMBO STORAGE BAG SUKI)           (JUMBO BAG RED RETROSPOT)   \n",
      "\n",
      "   antecedent support  consequent support   support  confidence       lift  \\\n",
      "0            0.052940            0.050407  0.038141    0.720450  14.292598   \n",
      "1            0.050407            0.052940  0.038141    0.756650  14.292598   \n",
      "2            0.060489            0.103894  0.040971    0.677340   6.519558   \n",
      "3            0.058353            0.103894  0.033770    0.578723   5.570351   \n",
      "4            0.058800            0.103894  0.035956    0.611486   5.885704   \n",
      "\n",
      "   leverage  conviction  \n",
      "0  0.035472    3.396865  \n",
      "1  0.035472    3.891765  \n",
      "2  0.034687    2.777246  \n",
      "3  0.027708    2.127121  \n",
      "4  0.029847    2.306500  \n"
     ]
    }
   ],
   "source": [
    "print(rules)"
   ]
  },
  {
   "cell_type": "code",
   "execution_count": null,
   "metadata": {},
   "outputs": [],
   "source": []
  }
 ],
 "metadata": {
  "kernelspec": {
   "display_name": "Python 3",
   "language": "python",
   "name": "python3"
  },
  "language_info": {
   "codemirror_mode": {
    "name": "ipython",
    "version": 3
   },
   "file_extension": ".py",
   "mimetype": "text/x-python",
   "name": "python",
   "nbconvert_exporter": "python",
   "pygments_lexer": "ipython3",
   "version": "3.7.4"
  }
 },
 "nbformat": 4,
 "nbformat_minor": 2
}
